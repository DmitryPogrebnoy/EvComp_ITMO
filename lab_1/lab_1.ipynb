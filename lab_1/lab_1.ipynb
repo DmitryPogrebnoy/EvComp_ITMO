{
 "cells": [
  {
   "cell_type": "code",
   "execution_count": null,
   "outputs": [],
   "source": [
    "import matplotlib.pyplot as plt\n",
    "\n",
    "def read_log(log):\n",
    "    avg_list = list()\n",
    "    std_list = list()\n",
    "    min_list = list()\n",
    "    max_list = list()\n",
    "    gen_list = list()\n",
    "    for g in log:\n",
    "        avg_list.append(g['avg'])\n",
    "        std_list.append(g['std'])\n",
    "        min_list.append(g['min'])\n",
    "        max_list.append(g['max'])\n",
    "        gen_list.append(g['gen'])\n",
    "    return np.array(gen_list), np.array(avg_list), np.array(std_list), np.array(max_list), np.array(min_list)\n",
    "\n",
    "def draw_log(log):\n",
    "    gen_list, avg_list, std_list, max_list, min_list = read_log(log)\n",
    "    plt.plot(gen_list, avg_list, label=\"avg\")\n",
    "    plt.plot(gen_list, min_list, label=\"min\")\n",
    "    plt.plot(gen_list, max_list, label=\"max\")\n",
    "    plt.fill_between(gen_list, avg_list-std_list, avg_list+std_list, alpha=0.2)\n",
    "    plt.legend()\n",
    "    plt.tight_layout()\n",
    "    plt.show()\n",
    "\n",
    "def draw_logs(log1, log2, lab1, lab2):\n",
    "    gen1, avg1, std1, max1, min1 = read_log(log1)\n",
    "    gen2, avg2, std2, max2, min2 = read_log(log2)\n",
    "    plt.plot(gen1, avg1, label=lab1, color=\"blue\")\n",
    "    plt.plot(gen1, max1, label=\"{}_max\".format(lab1), color=\"blue\", linewidth=2)\n",
    "    plt.fill_between(gen1, avg1 - std1, avg1 + std1, alpha=0.2, color=\"blue\")\n",
    "    plt.plot(gen2, avg2, label=lab2, color=\"orange\")\n",
    "    plt.plot(gen2, max2, label=\"{}_max\".format(lab2), color=\"orange\", linewidth=2)\n",
    "    plt.fill_between(gen2, avg2 - std2, avg2 + std2, alpha=0.2, color=\"orange\")\n",
    "    plt.legend()\n",
    "    plt.tight_layout()\n",
    "    plt.show()\n"
   ],
   "metadata": {
    "collapsed": false,
    "pycharm": {
     "name": "#%%\n",
     "is_executing": true
    }
   }
  },
  {
   "cell_type": "code",
   "execution_count": null,
   "outputs": [],
   "source": [
    "import random\n",
    "import math\n",
    "\n",
    "displace = random.random()\n",
    "\n",
    "def rastrigin(individual):\n",
    "    n = len(individual)\n",
    "    pi = math.pi\n",
    "    dn = 1.0 / n\n",
    "    a = 10.0\n",
    "    b = 0.2\n",
    "    c = 2 * pi\n",
    "    s1 = 0.0\n",
    "    s2 = 0.0\n",
    "    for i in range(n):\n",
    "        s1 += (individual[i]-displace) * (individual[i]-displace)\n",
    "        s2 += np.cos(c*(individual[i]-displace))\n",
    "    s1 = -a * math.exp(-b*math.sqrt(dn*s1))\n",
    "    s2 = -math.exp(dn*s2)\n",
    "    result = s1+s2 + a + math.exp(1)\n",
    "    result = -result\n",
    "    result = result + a\n",
    "    result = math.fabs(result)\n",
    "    return result"
   ],
   "metadata": {
    "collapsed": false,
    "pycharm": {
     "name": "#%%\n",
     "is_executing": true
    }
   }
  },
  {
   "cell_type": "code",
   "execution_count": null,
   "metadata": {
    "collapsed": true,
    "pycharm": {
     "name": "#%%\n",
     "is_executing": true
    }
   },
   "outputs": [],
   "source": [
    "from deap import tools, base\n",
    "from multiprocessing import Pool\n",
    "# from ga_scheme import eaMuPlusLambda\n",
    "from deap.algorithms import eaMuPlusLambda\n",
    "from numpy import random as rnd\n",
    "import numpy as np\n",
    "from deap import creator\n",
    "from deap import benchmarks\n",
    "\n",
    "creator.create(\"BaseFitness\", base.Fitness, weights=(1.0,))\n",
    "creator.create(\"Individual\", np.ndarray, fitness=creator.BaseFitness)\n",
    "\n",
    "def mutation(individual):\n",
    "    n = len(individual)\n",
    "    for i in range(n):\n",
    "        if rnd.random() < n * 0.75:\n",
    "            individual[i] += rnd.normal(0.0, 0.2)\n",
    "            individual[i] = np.clip(individual[i], -5, 5)\n",
    "    return individual,\n",
    "\n",
    "\n",
    "class SimpleGAExperiment:\n",
    "    def factory(self):\n",
    "        return rnd.random(self.dimension) * 10 - 5\n",
    "\n",
    "    def __init__(self, function, dimension, pop_size, iterations):\n",
    "        self.pop_size = pop_size\n",
    "        self.iterations = iterations\n",
    "        self.mut_prob = 0.9\n",
    "        self.cross_prob = 0.1\n",
    "\n",
    "        self.function = function\n",
    "        self.dimension = dimension\n",
    "\n",
    "        self.pool = Pool(8)\n",
    "        self.engine = base.Toolbox()\n",
    "        self.engine.register(\"map\", self.pool.map)\n",
    "        #self.engine.register(\"map\", map)\n",
    "        self.engine.register(\"individual\", tools.initIterate, creator.Individual, self.factory)\n",
    "        self.engine.register(\"population\", tools.initRepeat, list, self.engine.individual, self.pop_size)\n",
    "        self.engine.register(\"mate\", tools.cxOnePoint)\n",
    "        self.engine.register(\"mutate\", tools.mutGaussian, mu=1, sigma=1.5, indpb=0.02)\n",
    "        # self.engine.register(\"mutate\", tools.mutFlipBit, indpb=0.2)\n",
    "        # self.engine.register(\"mutate\", mutation)\n",
    "        self.engine.register(\"select\", tools.selTournament, tournsize=4)\n",
    "        # self.engine.register(\"select\", tools.selRoulette)\n",
    "        self.engine.register(\"evaluate\", self.function)\n",
    "\n",
    "\n",
    "    def run(self):\n",
    "        pop = self.engine.population()\n",
    "        hof = tools.HallOfFame(3, np.array_equal)\n",
    "        stats = tools.Statistics(lambda ind: ind.fitness.values[0])\n",
    "        stats.register(\"avg\", np.mean)\n",
    "        stats.register(\"std\", np.std)\n",
    "        stats.register(\"min\", np.min)\n",
    "        stats.register(\"max\", np.max)\n",
    "\n",
    "        pop, log = eaMuPlusLambda(pop, self.engine, mu=self.pop_size, lambda_=int(self.pop_size*0.8), cxpb=self.cross_prob, mutpb=self.mut_prob,\n",
    "                                  ngen=self.iterations,\n",
    "                                  stats=stats, halloffame=hof, verbose=True)\n",
    "\n",
    "        print(\"Best = {}\".format(hof[0]))\n",
    "        print(\"Best fit = {}\".format(hof[0].fitness.values[0]))\n",
    "        return log"
   ]
  },
  {
   "cell_type": "code",
   "execution_count": null,
   "outputs": [],
   "source": [
    "def function(x):\n",
    "    res = rastrigin(x)\n",
    "    return res,\n",
    "dimension = 100 # set to 100\n",
    "pop_size = 100 # max is 100\n",
    "iterations = 5000 # max is 10000\n",
    "scenario = SimpleGAExperiment(function, dimension, pop_size, iterations)\n",
    "log = scenario.run()\n"
   ],
   "metadata": {
    "collapsed": false,
    "pycharm": {
     "name": "#%%\n",
     "is_executing": true
    }
   }
  },
  {
   "cell_type": "code",
   "execution_count": null,
   "outputs": [],
   "source": [
    "draw_log(log)"
   ],
   "metadata": {
    "collapsed": false,
    "pycharm": {
     "name": "#%%\n",
     "is_executing": true
    }
   }
  },
  {
   "cell_type": "code",
   "execution_count": null,
   "outputs": [],
   "source": [],
   "metadata": {
    "collapsed": false,
    "pycharm": {
     "name": "#%%\n",
     "is_executing": true
    }
   }
  }
 ],
 "metadata": {
  "kernelspec": {
   "display_name": "Python 3",
   "language": "python",
   "name": "python3"
  },
  "language_info": {
   "codemirror_mode": {
    "name": "ipython",
    "version": 2
   },
   "file_extension": ".py",
   "mimetype": "text/x-python",
   "name": "python",
   "nbconvert_exporter": "python",
   "pygments_lexer": "ipython2",
   "version": "2.7.6"
  }
 },
 "nbformat": 4,
 "nbformat_minor": 0
}